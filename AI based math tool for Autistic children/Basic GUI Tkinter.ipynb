{
 "cells": [
  {
   "cell_type": "code",
   "execution_count": null,
   "metadata": {},
   "outputs": [],
   "source": [
    "import tkinter as tk\n",
    "from tkinter import messagebox\n",
    "\n",
    "class MathToolApp:\n",
    "    def __init__(self, root):\n",
    "        self.root = root\n",
    "        self.root.title(\"AI-based Math Tool for Autistic Children\")\n",
    "        self.create_widgets()\n",
    "\n",
    "    def create_widgets(self):\n",
    "        self.label = tk.Label(self.root, text=\"Welcome to the Math Tool!\", font=(\"Arial\", 16))\n",
    "        self.label.pack(pady=20)\n",
    "\n",
    "        self.start_button = tk.Button(self.root, text=\"Start\", command=self.start_learning)\n",
    "        self.start_button.pack(pady=10)\n",
    "\n",
    "    def start_learning(self):\n",
    "        self.label.config(text=\"Let's start learning numbers!\")\n",
    "        self.start_button.pack_forget()\n",
    "        self.show_number_identification()\n",
    "\n",
    "    def show_number_identification(self):\n",
    "        self.number_label = tk.Label(self.root, text=\"Identify this number: 5\", font=(\"Arial\", 24))\n",
    "        self.number_label.pack(pady=20)\n",
    "\n",
    "        self.answer_entry = tk.Entry(self.root)\n",
    "        self.answer_entry.pack(pady=10)\n",
    "\n",
    "        self.submit_button = tk.Button(self.root, text=\"Submit\", command=self.check_answer)\n",
    "        self.submit_button.pack(pady=10)\n",
    "\n",
    "    def check_answer(self):\n",
    "        answer = self.answer_entry.get()\n",
    "        if answer == \"5\":\n",
    "            messagebox.showinfo(\"Correct!\", \"Great job!\")\n",
    "        else:\n",
    "            messagebox.showerror(\"Incorrect\", \"Try again!\")\n",
    "\n",
    "        self.number_label.pack_forget()\n",
    "        self.answer_entry.pack_forget()\n",
    "        self.submit_button.pack_forget()\n",
    "        self.label.config(text=\"Let's move to counting!\")\n",
    "\n",
    "root = tk.Tk()\n",
    "app = MathToolApp(root)\n",
    "root.mainloop()"
   ]
  }
 ],
 "metadata": {
  "language_info": {
   "name": "python"
  }
 },
 "nbformat": 4,
 "nbformat_minor": 2
}
